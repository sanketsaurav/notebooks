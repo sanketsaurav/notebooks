{
 "cells": [
  {
   "cell_type": "markdown",
   "metadata": {},
   "source": [
    "# Insertion Sort\n",
    "\n",
    "**INSERTION SORT(A)**\n",
    "\n",
    "```\n",
    "for j = 2 to A.length\n",
    "    key = A[j]\n",
    "    i = j - 1\n",
    "    while i > 0 and A[i] > key\n",
    "        A[i+1] = A[i]\n",
    "        i = i - 1\n",
    "    A[i+1] = key\n",
    "```"
   ]
  },
  {
   "cell_type": "code",
   "execution_count": 90,
   "metadata": {},
   "outputs": [],
   "source": [
    "import random\n",
    "\n",
    "\n",
    "def insertion_sort(numbers):\n",
    "    for j in range(1, len(numbers)):\n",
    "        key = numbers[j]\n",
    "        i = j - 1\n",
    "        while i >= 0 and numbers[i] > key:\n",
    "            numbers[i+1] = numbers[i]\n",
    "            i -= 1\n",
    "        numbers[i+1] = key\n",
    "    return numbers\n",
    "        \n",
    "\n",
    "# generate a list of 10 random numbers\n",
    "numbers = [random.randrange(1, 100) for i in range(10)]\n",
    "\n",
    "# verify that the algorithm is correct\n",
    "assert insertion_sort(numbers) == sorted(numbers)"
   ]
  }
 ],
 "metadata": {
  "kernelspec": {
   "display_name": "Python 3",
   "language": "python",
   "name": "python3"
  },
  "language_info": {
   "codemirror_mode": {
    "name": "ipython",
    "version": 3
   },
   "file_extension": ".py",
   "mimetype": "text/x-python",
   "name": "python",
   "nbconvert_exporter": "python",
   "pygments_lexer": "ipython3",
   "version": "3.5.2"
  }
 },
 "nbformat": 4,
 "nbformat_minor": 2
}
